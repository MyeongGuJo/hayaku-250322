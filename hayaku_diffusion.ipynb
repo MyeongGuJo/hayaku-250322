{
  "cells": [
    {
      "cell_type": "markdown",
      "metadata": {
        "id": "view-in-github",
        "colab_type": "text"
      },
      "source": [
        "<a href=\"https://colab.research.google.com/github/MyeongGuJo/hayaku-250322/blob/main/hayaku_diffusion.ipynb\" target=\"_parent\"><img src=\"https://colab.research.google.com/assets/colab-badge.svg\" alt=\"Open In Colab\"/></a>"
      ]
    },
    {
      "cell_type": "code",
      "execution_count": null,
      "metadata": {
        "id": "i0gBQqyGxpD8"
      },
      "outputs": [],
      "source": [
        "import numpy as np\n",
        "import torch\n",
        "import matplotlib.pyplot as plt\n",
        "import torch.nn as nn\n",
        "from ipywidgets import interact, fixed\n",
        "import ipywidgets as widgets\n",
        "from torch.utils.data import Dataset, DataLoader\n",
        "from torchvision import datasets, transforms\n",
        "import random\n",
        "import torch.nn.functional as F"
      ]
    },
    {
      "cell_type": "code",
      "execution_count": null,
      "metadata": {
        "id": "iN3bTgWCxpD-"
      },
      "outputs": [],
      "source": [
        "device = torch.device('cuda' if torch.cuda.is_available() else 'cpu')"
      ]
    },
    {
      "cell_type": "code",
      "execution_count": null,
      "metadata": {
        "id": "ndGYJWCBxpD-",
        "outputId": "2517a819-20e7-480d-dd85-6b4bb26335b2"
      },
      "outputs": [
        {
          "data": {
            "image/png": "[encoded data removed]",
            "text/plain": [
              "<Figure size 640x480 with 1 Axes>"
            ]
          },
          "metadata": {},
          "output_type": "display_data"
        }
      ],
      "source": [
        "n_step = 1000\n",
        "beta_start = 0.0001\n",
        "beta_end = 0.01\n",
        "scale = 1000 / n_step # T = 1000 ->. scale = 1\n",
        "\n",
        "betas = torch.linspace(beta_start * scale, beta_end * scale, n_step)\n",
        "alphas = 1 - betas\n",
        "alphas_bar = torch.cumprod(alphas, dim=0)\n",
        "\n",
        "plt.plot(betas, 'g')\n",
        "plt.plot(alphas_bar, 'b')\n",
        "plt.title('green: beta, blue: alphas_bar')\n",
        "plt.show()\n",
        "\n",
        "alphas_bar = alphas_bar.to(device)\n",
        "betas = betas.to(device)\n",
        "alphas = alphas.to(device)"
      ]
    },
    {
      "cell_type": "code",
      "execution_count": null,
      "metadata": {
        "id": "ZUcQWBp2xpD-"
      },
      "outputs": [],
      "source": [
        "def extract(arr, t, x_shape):\n",
        "    if not torch.is_tensor(t):\n",
        "        b = 1\n",
        "        t = torch.tensor(t).to(device)\n",
        "    else:\n",
        "        b = t.shape[0]\n",
        "\n",
        "    out = arr.gather(-1, t) # array의 t번쨰 index를 가져와서 새로운 tensor로 만들어줌\n",
        "    return out.view((b, ) + (1, ) * (len(x_shape) - 1))\n",
        "\n",
        "def diffuse_once(x, t):\n",
        "    return (1 - betas[t]).sqrt() * x + betas[t].sqrt() * torch.randn_like(x)\n",
        "\n",
        "def diffuse(x, t, eta=None):\n",
        "    if eta is None:\n",
        "        eta = torch.randn_like(x).to(device)\n",
        "\n",
        "    x_t = extract(alphas_bar.sqrt(), t, x.shape) * x + extract((1 - alphas_bar).sqrt(), t, x.shape) * eta\n",
        "\n",
        "    return x_t"
      ]
    },
    {
      "cell_type": "code",
      "execution_count": null,
      "metadata": {
        "id": "bS3KRD_OxpD_"
      },
      "outputs": [],
      "source": [
        "'''\n",
        "3d UNet\n",
        "'''\n",
        "\n",
        "import math\n",
        "\n",
        "class TimeEmbedding_UNet(nn.Module):\n",
        "    def __init__(self, emb_dim: int):\n",
        "        super().__init__()\n",
        "        self.emb_dim = emb_dim\n",
        "        self.lin1 = nn.Linear(self.emb_dim // 4, self.emb_dim)\n",
        "        self.lin2 = nn.Linear(self.emb_dim, self.emb_dim)\n",
        "        self.act = nn.SiLU()\n",
        "\n",
        "    def forward(self, t: torch.Tensor):\n",
        "        half_dim = self.emb_dim // 8\n",
        "        emb = math.log(10_000) / (half_dim - 1)\n",
        "        emb = torch.exp(torch.arange(half_dim, device=t.device) * -emb)\n",
        "        emb = t[:, None] * emb[None, :]\n",
        "        emb = torch.cat((emb.sin(), emb.cos()), dim=1)\n",
        "\n",
        "        emb = self.act(self.lin1(emb))\n",
        "        emb = self.lin2(emb)\n",
        "\n",
        "        return emb\n",
        "\n",
        "\n",
        "class Residual_UNet(nn.Module):\n",
        "    def __init__(self, in_channels, out_channels):\n",
        "        super().__init__()\n",
        "\n",
        "        self.conv1 = nn.Sequential(\n",
        "            nn.Conv3d(in_channels, out_channels, 3, padding=1),\n",
        "            nn.BatchNorm3d(out_channels),\n",
        "            nn.SiLU()\n",
        "        )\n",
        "\n",
        "        self.time_emb = TimeEmbedding_UNet(out_channels)\n",
        "\n",
        "        self.conv2 = nn.Sequential(\n",
        "            nn.Conv3d(out_channels, out_channels, 3, padding=1),\n",
        "            nn.BatchNorm3d(out_channels),\n",
        "            nn.SiLU()\n",
        "        )\n",
        "\n",
        "    def forward(self, x, t):\n",
        "        x = self.conv1(x)\n",
        "        t_emb = self.time_emb(t)\n",
        "        x = self.conv2(x + t_emb[:, :, None, None, None])\n",
        "\n",
        "        return x\n",
        "\n",
        "\n",
        "# 3D Attention Gate 모듈 정의 (encoder의 특징 x와 디코더의 gating signal g를 받아 attention map을 구한 뒤, x에 곱해줌)\n",
        "class AttentionGate3D(nn.Module):\n",
        "    def __init__(self, F_g, F_l, F_int):\n",
        "        \"\"\"\n",
        "        Args:\n",
        "            F_g: gating signal의 채널 수 (디코더에서 온 특징)\n",
        "            F_l: encoder의 skip connection 특징 채널 수\n",
        "            F_int: 중간 채널 수 (보통 F_l의 절반 정도)\n",
        "        \"\"\"\n",
        "        super().__init__()\n",
        "        self.W_g = nn.Sequential(\n",
        "            nn.Conv3d(F_g, F_int, kernel_size=1, stride=1, padding=0, bias=True),\n",
        "            nn.BatchNorm3d(F_int)\n",
        "        )\n",
        "        self.W_x = nn.Sequential(\n",
        "            nn.Conv3d(F_l, F_int, kernel_size=1, stride=1, padding=0, bias=True),\n",
        "            nn.BatchNorm3d(F_int)\n",
        "        )\n",
        "        self.psi = nn.Sequential(\n",
        "            nn.Conv3d(F_int, 1, kernel_size=1, stride=1, padding=0, bias=True),\n",
        "            nn.BatchNorm3d(1),\n",
        "            nn.Sigmoid()\n",
        "        )\n",
        "        self.relu = nn.ReLU(inplace=True)\n",
        "\n",
        "    def forward(self, x, g):\n",
        "        # x: encoder의 skip 특징, g: 디코더의 gating signal (보통 업샘플된 특징)\n",
        "        g1 = self.W_g(g)\n",
        "        x1 = self.W_x(x)\n",
        "        psi = self.relu(g1 + x1)\n",
        "        psi = self.psi(psi)\n",
        "        # psi의 값(0~1)로 encoder 특징을 스케일링\n",
        "        return x * psi\n",
        "\n",
        "\n",
        "class Unet(nn.Module):\n",
        "    def __init__(self, channels: list, n_steps: int):\n",
        "        super().__init__()\n",
        "\n",
        "        self.channels = channels\n",
        "        self.n_steps = n_steps\n",
        "\n",
        "        self.down1 = Residual_UNet(1, self.channels[0])\n",
        "        self.down2 = Residual_UNet(self.channels[0], self.channels[1])\n",
        "        self.down3 = Residual_UNet(self.channels[1], self.channels[2])\n",
        "\n",
        "        # attention gate는 skip connection에 적용합니다.\n",
        "        # upsample1 이후의 gating signal x (채널 수 channels[2])로 conv2 (채널 수 channels[1])를 조절합니다.\n",
        "        self.att_gate2 = AttentionGate3D(F_g=self.channels[2], F_l=self.channels[1], F_int=self.channels[1] // 2)\n",
        "        # upsample2 이후의 gating signal x (채널 수 channels[1])로 conv1 (채널 수 channels[0])를 조절합니다.\n",
        "        self.att_gate1 = AttentionGate3D(F_g=self.channels[1], F_l=self.channels[0], F_int=self.channels[0] // 2)\n",
        "\n",
        "        self.up1 = Residual_UNet(self.channels[2] + self.channels[1], self.channels[1])\n",
        "        self.up2 = Residual_UNet(self.channels[1] + self.channels[0], self.channels[0])\n",
        "\n",
        "        self.upsample1 = nn.ConvTranspose3d(self.channels[2], self.channels[2], kernel_size=(1, 2, 2), stride=(1, 2, 2))\n",
        "        self.upsample2 = nn.ConvTranspose3d(self.channels[1], self.channels[1], kernel_size=(1, 2, 2), stride=(1, 2, 2))\n",
        "\n",
        "        self.maxpool = nn.MaxPool3d(kernel_size=(1, 2, 2))\n",
        "\n",
        "        self.final = nn.Sequential(\n",
        "            nn.Conv3d(self.channels[0] + 1, self.channels[0], 3, padding=1),\n",
        "            nn.BatchNorm3d(self.channels[0]),\n",
        "            nn.SiLU(),\n",
        "            nn.Conv3d(self.channels[0], 1, 3, padding=1)\n",
        "        )\n",
        "\n",
        "    def forward(self, x, t):\n",
        "        input_data = x.clone()\n",
        "        t = t.float() / self.n_steps\n",
        "\n",
        "        conv1 = self.down1(x, t)\n",
        "        x = self.maxpool(conv1)\n",
        "\n",
        "        conv2 = self.down2(x, t)\n",
        "        x = self.maxpool(conv2)\n",
        "\n",
        "        x = self.down3(x, t)\n",
        "\n",
        "        x = self.upsample1(x)     #upsampling\n",
        "\n",
        "        conv2_att = self.att_gate2(conv2, x)\n",
        "        x = torch.cat([x, conv2_att], dim=1)\n",
        "        x = self.up1(x, t)\n",
        "\n",
        "        x = self.upsample2(x)     #upsampling\n",
        "        conv1_att = self.att_gate1(conv1, x)\n",
        "        x = torch.cat([x, conv1_att], dim=1)\n",
        "        x = self.up2(x, t)\n",
        "\n",
        "        x = torch.cat([x, input_data], dim=1)\n",
        "        x = self.final(x)\n",
        "\n",
        "        return x"
      ]
    },
    {
      "cell_type": "code",
      "execution_count": null,
      "metadata": {
        "id": "T2d1cqivxpD_"
      },
      "outputs": [],
      "source": [
        "'''\n",
        "3d UNet\n",
        "'''\n",
        "\n",
        "import math\n",
        "\n",
        "class TimeEmbedding_UNet_CFG(nn.Module):\n",
        "    def __init__(self, emb_dim: int):\n",
        "        super().__init__()\n",
        "        self.emb_dim = emb_dim\n",
        "        self.lin1 = nn.Linear(self.emb_dim // 4, self.emb_dim)\n",
        "        self.lin2 = nn.Linear(self.emb_dim, self.emb_dim)\n",
        "        self.act = nn.SiLU()\n",
        "\n",
        "    def forward(self, t: torch.Tensor):\n",
        "        half_dim = self.emb_dim // 8\n",
        "        emb = math.log(10_000) / (half_dim - 1)\n",
        "        emb = torch.exp(torch.arange(half_dim, device=t.device) * -emb)\n",
        "        emb = t[:, None] * emb[None, :]\n",
        "        emb = torch.cat((emb.sin(), emb.cos()), dim=1)\n",
        "\n",
        "        emb = self.act(self.lin1(emb))\n",
        "        emb = self.lin2(emb)\n",
        "\n",
        "        return emb\n",
        "\n",
        "\n",
        "class Residual_UNet_CFG(nn.Module):\n",
        "    def __init__(self, in_channels, out_channels):\n",
        "        super().__init__()\n",
        "\n",
        "        self.conv1 = nn.Sequential(\n",
        "            nn.Conv3d(in_channels, out_channels, 3, padding=1),\n",
        "            nn.BatchNorm3d(out_channels),\n",
        "            nn.SiLU()\n",
        "        )\n",
        "\n",
        "        self.time_emb = TimeEmbedding_UNet_CFG(out_channels)\n",
        "\n",
        "        self.conv2 = nn.Sequential(\n",
        "            nn.Conv3d(out_channels, out_channels, 3, padding=1),\n",
        "            nn.BatchNorm3d(out_channels),\n",
        "            nn.SiLU()\n",
        "        )\n",
        "\n",
        "    def forward(self, x, t):\n",
        "        x = self.conv1(x)\n",
        "        t_emb = self.time_emb(t)\n",
        "        x = self.conv2(x + t_emb[:, :, None, None, None])\n",
        "\n",
        "        return x\n",
        "\n",
        "\n",
        "# 3D Attention Gate 모듈 정의 (encoder의 특징 x와 디코더의 gating signal g를 받아 attention map을 구한 뒤, x에 곱해줌)\n",
        "class AttentionGate3D_CFG(nn.Module):\n",
        "    def __init__(self, F_g, F_l, F_int):\n",
        "        \"\"\"\n",
        "        Args:\n",
        "            F_g: gating signal의 채널 수 (디코더에서 온 특징)\n",
        "            F_l: encoder의 skip connection 특징 채널 수\n",
        "            F_int: 중간 채널 수 (보통 F_l의 절반 정도)\n",
        "        \"\"\"\n",
        "        super().__init__()\n",
        "        self.W_g = nn.Sequential(\n",
        "            nn.Conv3d(F_g, F_int, kernel_size=1, stride=1, padding=0, bias=True),\n",
        "            nn.BatchNorm3d(F_int)\n",
        "        )\n",
        "        self.W_x = nn.Sequential(\n",
        "            nn.Conv3d(F_l, F_int, kernel_size=1, stride=1, padding=0, bias=True),\n",
        "            nn.BatchNorm3d(F_int)\n",
        "        )\n",
        "        self.psi = nn.Sequential(\n",
        "            nn.Conv3d(F_int, 1, kernel_size=1, stride=1, padding=0, bias=True),\n",
        "            nn.BatchNorm3d(1),\n",
        "            nn.Sigmoid()\n",
        "        )\n",
        "        self.relu = nn.ReLU(inplace=True)\n",
        "\n",
        "    def forward(self, x, g):\n",
        "        # x: encoder의 skip 특징, g: 디코더의 gating signal (보통 업샘플된 특징)\n",
        "        g1 = self.W_g(g)\n",
        "        x1 = self.W_x(x)\n",
        "        psi = self.relu(g1 + x1)\n",
        "        psi = self.psi(psi)\n",
        "        # psi의 값(0~1)로 encoder 특징을 스케일링\n",
        "        return x * psi\n",
        "\n",
        "\n",
        "class ClassEmbedding_CFG(nn.Module):\n",
        "    def __init__(self, num_classes: int, emb_dim: int):\n",
        "        super().__init__()\n",
        "        self.embedding = nn.Sequential(\n",
        "            nn.Linear(num_classes, emb_dim),\n",
        "            nn.SiLU(),\n",
        "            nn.Linear(emb_dim, emb_dim)\n",
        "        )\n",
        "\n",
        "    def forward(self, c):\n",
        "        return self.embedding(c)\n",
        "\n",
        "\n",
        "class Unet_CFG(nn.Module):\n",
        "    def __init__(self, channels: list, n_steps: int, class_num: int):\n",
        "        super().__init__()\n",
        "\n",
        "        self.channels = channels\n",
        "        self.n_steps = n_steps\n",
        "        self.class_num = class_num\n",
        "\n",
        "        self.down1 = Residual_UNet_CFG(1, self.channels[0])\n",
        "        self.down2 = Residual_UNet_CFG(self.channels[0], self.channels[1])\n",
        "        self.down3 = Residual_UNet_CFG(self.channels[1], self.channels[2])\n",
        "\n",
        "        # attention gate는 skip connection에 적용합니다.\n",
        "        # upsample1 이후의 gating signal x (채널 수 channels[2])로 conv2 (채널 수 channels[1])를 조절합니다.\n",
        "        self.att_gate2 = AttentionGate3D_CFG(F_g=self.channels[2], F_l=self.channels[1], F_int=self.channels[1] // 2)\n",
        "        # upsample2 이후의 gating signal x (채널 수 channels[1])로 conv1 (채널 수 channels[0])를 조절합니다.\n",
        "        self.att_gate1 = AttentionGate3D_CFG(F_g=self.channels[1], F_l=self.channels[0], F_int=self.channels[0] // 2)\n",
        "\n",
        "        self.up1 = Residual_UNet_CFG(self.channels[2] + self.channels[1], self.channels[1])\n",
        "        self.up2 = Residual_UNet_CFG(self.channels[1] + self.channels[0], self.channels[0])\n",
        "\n",
        "        self.class_emb1 = ClassEmbedding_CFG(self.class_num, self.channels[2])\n",
        "        self.class_emb2 = ClassEmbedding_CFG(self.class_num, self.channels[1])\n",
        "\n",
        "        self.upsample1 = nn.ConvTranspose3d(self.channels[2], self.channels[2], kernel_size=(1, 2, 2), stride=(1, 2, 2))\n",
        "        self.upsample2 = nn.ConvTranspose3d(self.channels[1], self.channels[1], kernel_size=(1, 2, 2), stride=(1, 2, 2))\n",
        "\n",
        "        self.maxpool = nn.MaxPool3d(kernel_size=(1, 2, 2))\n",
        "\n",
        "        self.final = nn.Sequential(\n",
        "            nn.Conv3d(self.channels[0] + 1, self.channels[0], 3, padding=1),\n",
        "            nn.BatchNorm3d(self.channels[0]),\n",
        "            nn.SiLU(),\n",
        "            nn.Conv3d(self.channels[0], 1, 3, padding=1)\n",
        "        )\n",
        "\n",
        "    def forward(self, x, t, c):\n",
        "        input_data = x.clone()\n",
        "        t = t.float() / self.n_steps\n",
        "\n",
        "        conv1 = self.down1(x, t)\n",
        "        x = self.maxpool(conv1)\n",
        "\n",
        "        conv2 = self.down2(x, t)\n",
        "        x = self.maxpool(conv2)\n",
        "\n",
        "        x = self.down3(x, t)\n",
        "\n",
        "        x = self.upsample1(x)     #upsampling\n",
        "\n",
        "        c_emb1 = self.class_emb1(c)\n",
        "        x = x * c_emb1[:, :, None, None, None]\n",
        "        conv2_att = self.att_gate2(conv2, x)\n",
        "        #print(x.shape)\n",
        "        #print(c_emb1.shape)\n",
        "        x = torch.cat([x, conv2_att], dim=1)\n",
        "        x = self.up1(x, t)\n",
        "\n",
        "        x = self.upsample2(x)     #upsampling\n",
        "\n",
        "        c_emb2 = self.class_emb2(c)\n",
        "        x = x * c_emb2[:, :, None, None, None]\n",
        "        conv1_att = self.att_gate1(conv1, x)\n",
        "        x = torch.cat([x, conv1_att], dim=1)\n",
        "        x = self.up2(x, t)\n",
        "\n",
        "        x = torch.cat([x, input_data], dim=1)\n",
        "        x = self.final(x)\n",
        "\n",
        "        return x"
      ]
    },
    {
      "cell_type": "code",
      "execution_count": null,
      "metadata": {
        "id": "X9iTbFtRxpEA",
        "outputId": "d7ff1a62-07f8-4fed-ca76-1184200cc955"
      },
      "outputs": [
        {
          "data": {
            "text/plain": [
              "'\\n3 channels\\nimport math\\n\\nclass TimeEmbedding_UNet(nn.Module):\\n    def __init__(self, emb_dim: int):\\n        super().__init__()\\n        self.emb_dim = emb_dim\\n        self.lin1 = nn.Linear(self.emb_dim // 4, self.emb_dim)\\n        self.lin2 = nn.Linear(self.emb_dim, self.emb_dim)\\n        self.act = nn.SiLU()\\n\\n    def forward(self, t: torch.Tensor):\\n        half_dim = self.emb_dim // 8\\n        emb = math.log(10_000) / (half_dim - 1)\\n        emb = torch.exp(torch.arange(half_dim, device=t.device) * -emb)\\n        emb = t[:, None] * emb[None, :]\\n        emb = torch.cat((emb.sin(), emb.cos()), dim=1)\\n\\n        emb = self.act(self.lin1(emb))\\n        emb = self.lin2(emb)\\n\\n        return emb\\n    \\n\\nclass Residual_UNet(nn.Module):\\n    def __init__(self, in_channels, out_channels):\\n        super().__init__()\\n\\n        self.conv1 = nn.Sequential(\\n            nn.Conv2d(in_channels, out_channels, 3, padding=1),\\n            nn.BatchNorm2d(out_channels),\\n            nn.SiLU()\\n        )\\n\\n        self.time_emb = TimeEmbedding_UNet(out_channels)\\n\\n        self.conv2 = nn.Sequential(\\n            nn.Conv2d(out_channels, out_channels, 3, padding=1),\\n            nn.BatchNorm2d(out_channels),\\n            nn.SiLU()\\n        )\\n\\n    def forward(self, x, t):\\n        x = self.conv1(x)\\n        t_emb = self.time_emb(t)\\n        x = self.conv2(x + t_emb[:, :, None, None])\\n        \\n        return x\\n    \\n\\n# 2D Attention Gate 모듈 정의 (encoder의 특징 x와 디코더의 gating signal g를 받아 attention map을 구한 뒤, x에 곱해줌)\\nclass AttentionGate2D(nn.Module):\\n    def __init__(self, F_g, F_l, F_int):\\n        \"\"\"\\n        Args:\\n            F_g: gating signal의 채널 수 (디코더에서 온 특징)\\n            F_l: encoder의 skip connection 특징 채널 수\\n            F_int: 중간 채널 수 (보통 F_l의 절반 정도)\\n        \"\"\"\\n        super().__init__()\\n        self.W_g = nn.Sequential(\\n            nn.Conv2d(F_g, F_int, kernel_size=1, stride=1, padding=0, bias=True),\\n            nn.BatchNorm2d(F_int)\\n        )\\n        self.W_x = nn.Sequential(\\n            nn.Conv2d(F_l, F_int, kernel_size=1, stride=1, padding=0, bias=True),\\n            nn.BatchNorm2d(F_int)\\n        )\\n        self.psi = nn.Sequential(\\n            nn.Conv2d(F_int, 1, kernel_size=1, stride=1, padding=0, bias=True),\\n            nn.BatchNorm2d(1),\\n            nn.Sigmoid()\\n        )\\n        self.relu = nn.ReLU(inplace=True)\\n\\n    def forward(self, x, g):\\n        # x: encoder의 skip 특징, g: 디코더의 gating signal (보통 업샘플된 특징)\\n        g1 = self.W_g(g)\\n        x1 = self.W_x(x)\\n        psi = self.relu(g1 + x1)\\n        psi = self.psi(psi)\\n        # psi의 값(0~1)로 encoder 특징을 스케일링\\n        return x * psi\\n\\n\\nclass Unet(nn.Module):\\n    def __init__(self, channels: list, n_steps: int):\\n        super().__init__()\\n\\n        self.channels = channels\\n        self.n_steps = n_steps\\n\\n        self.down1 = Residual_UNet(3, self.channels[0])\\n        self.down2 = Residual_UNet(self.channels[0], self.channels[1])\\n        self.down3 = Residual_UNet(self.channels[1], self.channels[2])\\n\\n        # attention gate는 skip connection에 적용합니다.\\n        # upsample1 이후의 gating signal x (채널 수 channels[2])로 conv2 (채널 수 channels[1])를 조절합니다.\\n        self.att_gate2 = AttentionGate2D(F_g=self.channels[2], F_l=self.channels[1], F_int=self.channels[1] // 2)\\n        # upsample2 이후의 gating signal x (채널 수 channels[1])로 conv1 (채널 수 channels[0])를 조절합니다.\\n        self.att_gate1 = AttentionGate2D(F_g=self.channels[1], F_l=self.channels[0], F_int=self.channels[0] // 2)\\n\\n        self.up1 = Residual_UNet(self.channels[2] + self.channels[1], self.channels[1])\\n        self.up2 = Residual_UNet(self.channels[1] + self.channels[0], self.channels[0])\\n\\n        self.upsample1 = nn.ConvTranspose2d(self.channels[2], self.channels[2], kernel_size=2, stride=2)\\n        self.upsample2 = nn.ConvTranspose2d(self.channels[1], self.channels[1], kernel_size=2, stride=2)\\n\\n        self.maxpool = nn.MaxPool2d(kernel_size=2)\\n\\n        self.final = nn.Sequential(\\n            nn.Conv2d(self.channels[0] + 3, self.channels[0], 3, padding=1),\\n            nn.BatchNorm2d(self.channels[0]),\\n            nn.SiLU(),\\n            nn.Conv2d(self.channels[0], 3, 3, padding=1)\\n        )\\n\\n    def forward(self, x, t):\\n        input_data = x.clone()\\n        t = t.float() / self.n_steps\\n\\n        conv1 = self.down1(x, t)\\n        x = self.maxpool(conv1)\\n\\n        conv2 = self.down2(x, t)\\n        x = self.maxpool(conv2)\\n\\n        x = self.down3(x, t)\\n\\n        x = self.upsample1(x)     #upsampling\\n\\n        conv2_att = self.att_gate2(conv2, x)\\n        x = torch.cat([x, conv2_att], dim=1)\\n        x = self.up1(x, t)\\n\\n        x = self.upsample2(x)     #upsampling\\n        conv1_att = self.att_gate1(conv1, x)\\n        x = torch.cat([x, conv1_att], dim=1)\\n        x = self.up2(x, t)\\n\\n        x = torch.cat([x, input_data], dim=1)\\n        x = self.final(x)\\n\\n        return x\\n\\n'"
            ]
          },
          "execution_count": 8,
          "metadata": {},
          "output_type": "execute_result"
        }
      ],
      "source": [
        "'''\n",
        "3 channels\n",
        "import math\n",
        "\n",
        "class TimeEmbedding_UNet(nn.Module):\n",
        "    def __init__(self, emb_dim: int):\n",
        "        super().__init__()\n",
        "        self.emb_dim = emb_dim\n",
        "        self.lin1 = nn.Linear(self.emb_dim // 4, self.emb_dim)\n",
        "        self.lin2 = nn.Linear(self.emb_dim, self.emb_dim)\n",
        "        self.act = nn.SiLU()\n",
        "\n",
        "    def forward(self, t: torch.Tensor):\n",
        "        half_dim = self.emb_dim // 8\n",
        "        emb = math.log(10_000) / (half_dim - 1)\n",
        "        emb = torch.exp(torch.arange(half_dim, device=t.device) * -emb)\n",
        "        emb = t[:, None] * emb[None, :]\n",
        "        emb = torch.cat((emb.sin(), emb.cos()), dim=1)\n",
        "\n",
        "        emb = self.act(self.lin1(emb))\n",
        "        emb = self.lin2(emb)\n",
        "\n",
        "        return emb\n",
        "\n",
        "\n",
        "class Residual_UNet(nn.Module):\n",
        "    def __init__(self, in_channels, out_channels):\n",
        "        super().__init__()\n",
        "\n",
        "        self.conv1 = nn.Sequential(\n",
        "            nn.Conv2d(in_channels, out_channels, 3, padding=1),\n",
        "            nn.BatchNorm2d(out_channels),\n",
        "            nn.SiLU()\n",
        "        )\n",
        "\n",
        "        self.time_emb = TimeEmbedding_UNet(out_channels)\n",
        "\n",
        "        self.conv2 = nn.Sequential(\n",
        "            nn.Conv2d(out_channels, out_channels, 3, padding=1),\n",
        "            nn.BatchNorm2d(out_channels),\n",
        "            nn.SiLU()\n",
        "        )\n",
        "\n",
        "    def forward(self, x, t):\n",
        "        x = self.conv1(x)\n",
        "        t_emb = self.time_emb(t)\n",
        "        x = self.conv2(x + t_emb[:, :, None, None])\n",
        "\n",
        "        return x\n",
        "\n",
        "\n",
        "# 2D Attention Gate 모듈 정의 (encoder의 특징 x와 디코더의 gating signal g를 받아 attention map을 구한 뒤, x에 곱해줌)\n",
        "class AttentionGate2D(nn.Module):\n",
        "    def __init__(self, F_g, F_l, F_int):\n",
        "        \"\"\"\n",
        "        Args:\n",
        "            F_g: gating signal의 채널 수 (디코더에서 온 특징)\n",
        "            F_l: encoder의 skip connection 특징 채널 수\n",
        "            F_int: 중간 채널 수 (보통 F_l의 절반 정도)\n",
        "        \"\"\"\n",
        "        super().__init__()\n",
        "        self.W_g = nn.Sequential(\n",
        "            nn.Conv2d(F_g, F_int, kernel_size=1, stride=1, padding=0, bias=True),\n",
        "            nn.BatchNorm2d(F_int)\n",
        "        )\n",
        "        self.W_x = nn.Sequential(\n",
        "            nn.Conv2d(F_l, F_int, kernel_size=1, stride=1, padding=0, bias=True),\n",
        "            nn.BatchNorm2d(F_int)\n",
        "        )\n",
        "        self.psi = nn.Sequential(\n",
        "            nn.Conv2d(F_int, 1, kernel_size=1, stride=1, padding=0, bias=True),\n",
        "            nn.BatchNorm2d(1),\n",
        "            nn.Sigmoid()\n",
        "        )\n",
        "        self.relu = nn.ReLU(inplace=True)\n",
        "\n",
        "    def forward(self, x, g):\n",
        "        # x: encoder의 skip 특징, g: 디코더의 gating signal (보통 업샘플된 특징)\n",
        "        g1 = self.W_g(g)\n",
        "        x1 = self.W_x(x)\n",
        "        psi = self.relu(g1 + x1)\n",
        "        psi = self.psi(psi)\n",
        "        # psi의 값(0~1)로 encoder 특징을 스케일링\n",
        "        return x * psi\n",
        "\n",
        "\n",
        "class Unet(nn.Module):\n",
        "    def __init__(self, channels: list, n_steps: int):\n",
        "        super().__init__()\n",
        "\n",
        "        self.channels = channels\n",
        "        self.n_steps = n_steps\n",
        "\n",
        "        self.down1 = Residual_UNet(3, self.channels[0])\n",
        "        self.down2 = Residual_UNet(self.channels[0], self.channels[1])\n",
        "        self.down3 = Residual_UNet(self.channels[1], self.channels[2])\n",
        "\n",
        "        # attention gate는 skip connection에 적용합니다.\n",
        "        # upsample1 이후의 gating signal x (채널 수 channels[2])로 conv2 (채널 수 channels[1])를 조절합니다.\n",
        "        self.att_gate2 = AttentionGate2D(F_g=self.channels[2], F_l=self.channels[1], F_int=self.channels[1] // 2)\n",
        "        # upsample2 이후의 gating signal x (채널 수 channels[1])로 conv1 (채널 수 channels[0])를 조절합니다.\n",
        "        self.att_gate1 = AttentionGate2D(F_g=self.channels[1], F_l=self.channels[0], F_int=self.channels[0] // 2)\n",
        "\n",
        "        self.up1 = Residual_UNet(self.channels[2] + self.channels[1], self.channels[1])\n",
        "        self.up2 = Residual_UNet(self.channels[1] + self.channels[0], self.channels[0])\n",
        "\n",
        "        self.upsample1 = nn.ConvTranspose2d(self.channels[2], self.channels[2], kernel_size=2, stride=2)\n",
        "        self.upsample2 = nn.ConvTranspose2d(self.channels[1], self.channels[1], kernel_size=2, stride=2)\n",
        "\n",
        "        self.maxpool = nn.MaxPool2d(kernel_size=2)\n",
        "\n",
        "        self.final = nn.Sequential(\n",
        "            nn.Conv2d(self.channels[0] + 3, self.channels[0], 3, padding=1),\n",
        "            nn.BatchNorm2d(self.channels[0]),\n",
        "            nn.SiLU(),\n",
        "            nn.Conv2d(self.channels[0], 3, 3, padding=1)\n",
        "        )\n",
        "\n",
        "    def forward(self, x, t):\n",
        "        input_data = x.clone()\n",
        "        t = t.float() / self.n_steps\n",
        "\n",
        "        conv1 = self.down1(x, t)\n",
        "        x = self.maxpool(conv1)\n",
        "\n",
        "        conv2 = self.down2(x, t)\n",
        "        x = self.maxpool(conv2)\n",
        "\n",
        "        x = self.down3(x, t)\n",
        "\n",
        "        x = self.upsample1(x)     #upsampling\n",
        "\n",
        "        conv2_att = self.att_gate2(conv2, x)\n",
        "        x = torch.cat([x, conv2_att], dim=1)\n",
        "        x = self.up1(x, t)\n",
        "\n",
        "        x = self.upsample2(x)     #upsampling\n",
        "        conv1_att = self.att_gate1(conv1, x)\n",
        "        x = torch.cat([x, conv1_att], dim=1)\n",
        "        x = self.up2(x, t)\n",
        "\n",
        "        x = torch.cat([x, input_data], dim=1)\n",
        "        x = self.final(x)\n",
        "\n",
        "        return x\n",
        "\n",
        "'''"
      ]
    },
    {
      "cell_type": "code",
      "execution_count": null,
      "metadata": {
        "id": "65w0ootjxpEB",
        "outputId": "bf208c5c-604d-4a71-ef72-1663c96c4a87"
      },
      "outputs": [
        {
          "name": "stdout",
          "output_type": "stream",
          "text": [
            "model parameter size : 11320743\n"
          ]
        }
      ],
      "source": [
        "model = Unet_CFG(channels=[128, 192, 256], n_steps=n_step, class_num=8).to(device)\n",
        "\n",
        "optimizer = torch.optim.Adam(model.parameters(), lr=4e-5)\n",
        "criterion = nn.MSELoss()\n",
        "\n",
        "print(\"model parameter size :\", sum(p.numel() for p in model.parameters() if p.requires_grad))"
      ]
    },
    {
      "cell_type": "code",
      "execution_count": null,
      "metadata": {
        "id": "Ym78mL0uxpEB"
      },
      "outputs": [],
      "source": [
        "class ContinuousMNISTDataset(Dataset):\n",
        "    def __init__(self, root='./data', train=True, transform=transforms.ToTensor(), download=True, data_size=60000):\n",
        "        \"\"\"\n",
        "        Args:\n",
        "            root (str): Root directory for MNIST.\n",
        "            train (bool): Use training set or test set.\n",
        "            transform: Transform to apply to each MNIST image.\n",
        "            download (bool): Download MNIST if not present.\n",
        "            data_size (int): Number of samples (triplets) to generate.\n",
        "        \"\"\"\n",
        "        # Load the standard MNIST dataset\n",
        "        self.mnist = datasets.MNIST(root=root, train=train, download=download, transform=transform)\n",
        "        self.data_size = data_size\n",
        "\n",
        "        # Build a dictionary mapping each digit (0-9) to a list of indices\n",
        "        self.label_to_indices = {i: [] for i in range(10)}\n",
        "        for idx, (_, label) in enumerate(self.mnist):\n",
        "            self.label_to_indices[label].append(idx)\n",
        "\n",
        "        # Allowed starting digits for a consecutive triplet (0-7)\n",
        "        self.allowed_starts = list(range(8))\n",
        "\n",
        "    def __len__(self):\n",
        "        return self.data_size\n",
        "\n",
        "    def __getitem__(self, index):\n",
        "        # Randomly choose a starting digit (ensuring the group is continuous)\n",
        "        start_digit = random.choice(self.allowed_starts)\n",
        "        images = []\n",
        "        labels = []\n",
        "\n",
        "        # For each digit in the triplet [start, start+1, start+2], randomly select an image\n",
        "        for d in [start_digit, start_digit + 1, start_digit + 2]:\n",
        "            idx = random.choice(self.label_to_indices[d])\n",
        "            img, label = self.mnist[idx]\n",
        "            images.append(img)\n",
        "            labels.append(label)\n",
        "\n",
        "        # Each image is (1, 28, 28). Use torch.stack to form a tensor of shape (3, 1, 28, 28)\n",
        "        # Then, permute to obtain (1, 3, 28, 28) (channel, depth, height, width)\n",
        "        images = torch.stack(images, dim=0)  # shape: (3, 1, 28, 28)\n",
        "        images = images.permute(1, 0, 2, 3)    # shape: (1, 3, 28, 28)\n",
        "        #images.squeeze_(0)\n",
        "\n",
        "        images = (images * 2) - 1\n",
        "\n",
        "        # Optionally, return labels as a tensor of three digits\n",
        "        labels = torch.tensor(labels)\n",
        "        return images, labels"
      ]
    },
    {
      "cell_type": "code",
      "execution_count": null,
      "metadata": {
        "id": "sH-0lsUtxpEC",
        "outputId": "ec03d180-c271-49b2-9be9-d48e48b00532"
      },
      "outputs": [
        {
          "name": "stdout",
          "output_type": "stream",
          "text": [
            "313\n"
          ]
        }
      ],
      "source": [
        "# Create an instance of the custom dataset with a desired size\n",
        "dataset = ContinuousMNISTDataset(data_size=10000)\n",
        "\n",
        "# Create a DataLoader for batching and shuffling\n",
        "dataloader = DataLoader(dataset, batch_size=32, shuffle=True)\n",
        "print(len(dataloader))"
      ]
    },
    {
      "cell_type": "code",
      "execution_count": null,
      "metadata": {
        "id": "5vdN0rxyxpEC",
        "outputId": "1f2c80be-8b08-4eb5-f647-752ba38895a5"
      },
      "outputs": [
        {
          "name": "stdout",
          "output_type": "stream",
          "text": [
            "Batch: 0\n",
            "Data shape: torch.Size([32, 1, 3, 28, 28])\n",
            "Target shape: torch.Size([32, 3])\n"
          ]
        },
        {
          "data": {
            "image/png": "[encoded data removed]",
            "text/plain": [
              "<Figure size 1500x500 with 3 Axes>"
            ]
          },
          "metadata": {},
          "output_type": "display_data"
        },
        {
          "data": {
            "image/png": "[encoded data removed]",
            "text/plain": [
              "<Figure size 1500x500 with 3 Axes>"
            ]
          },
          "metadata": {},
          "output_type": "display_data"
        },
        {
          "name": "stdout",
          "output_type": "stream",
          "text": [
            "torch.Size([32, 1, 3, 28, 28])\n"
          ]
        }
      ],
      "source": [
        "# Fetch a single batch and check the shape\n",
        "for batch_idx, (data, target) in enumerate(dataloader):\n",
        "    print('Batch:', batch_idx)\n",
        "    print('Data shape:', data.shape)    # Expected: (32, 1, 3, 28, 28)\n",
        "    print('Target shape:', target.shape)  # Expected: (32, 3)\n",
        "\n",
        "    for j in range(2):\n",
        "        fig, ax = plt.subplots(1, 3, figsize=(15, 5))\n",
        "        ax[1].title.set_text('class: %i' % target[j, 0])\n",
        "        for j in range(3):\n",
        "            ax[j].imshow(data[j, 0, j], cmap='gray', vmin=-1, vmax=1)\n",
        "            ax[j].axis('off')\n",
        "        plt.show()\n",
        "\n",
        "    out_size = model(data.to(device), torch.arange(data.shape[0]).to(device), torch.zeros((data.shape[0], 8)).to(device)).shape\n",
        "    print(out_size)\n",
        "    break"
      ]
    },
    {
      "cell_type": "code",
      "execution_count": null,
      "metadata": {
        "id": "uRqqlc__xpEC",
        "outputId": "a29e49e4-69a4-4792-d70a-a8e261d31728"
      },
      "outputs": [
        {
          "name": "stdout",
          "output_type": "stream",
          "text": [
            "(tensor([[1, 0, 0, 0, 0, 0, 0, 0],\n",
            "        [0, 1, 0, 0, 0, 0, 0, 0],\n",
            "        [0, 0, 1, 0, 0, 0, 0, 0],\n",
            "        [0, 0, 0, 1, 0, 0, 0, 0],\n",
            "        [0, 0, 0, 0, 1, 0, 0, 0],\n",
            "        [0, 0, 0, 0, 0, 1, 0, 0],\n",
            "        [0, 0, 0, 0, 0, 0, 1, 0],\n",
            "        [0, 0, 0, 0, 0, 0, 0, 1]]), tensor([[0., 1., 1., 1., 1., 1., 1., 1.],\n",
            "        [1., 1., 1., 1., 1., 1., 1., 1.],\n",
            "        [1., 1., 1., 1., 1., 1., 0., 0.],\n",
            "        [1., 1., 0., 1., 0., 1., 1., 1.],\n",
            "        [1., 1., 1., 1., 1., 0., 1., 1.],\n",
            "        [1., 1., 1., 1., 1., 1., 1., 1.],\n",
            "        [1., 1., 0., 1., 1., 1., 0., 1.],\n",
            "        [1., 1., 1., 1., 1., 1., 1., 1.]]))\n"
          ]
        }
      ],
      "source": [
        "def get_context_mask(c, drop_prob, n_classes=8, device='cpu'):\n",
        "    c_hot = F.one_hot(c.to(torch.int64), num_classes=n_classes).to(device)\n",
        "    c_mask = torch.bernoulli(torch.ones_like(c_hot).float() - drop_prob).to(device)\n",
        "    return c_hot, c_mask\n",
        "\n",
        "print(get_context_mask(torch.tensor([0, 1, 2, 3, 4, 5, 6, 7]), 0.1))"
      ]
    },
    {
      "cell_type": "code",
      "execution_count": null,
      "metadata": {
        "id": "WCZCGZasxpEC",
        "outputId": "e93fb58c-ab9c-409f-f911-37f22d25010a"
      },
      "outputs": [
        {
          "name": "stderr",
          "output_type": "stream",
          "text": [
            "step: 26, loss: 0.0430:   9%|▊         | 27/313 [00:04<00:48,  5.86it/s]\n"
          ]
        },
        {
          "ename": "KeyboardInterrupt",
          "evalue": "",
          "output_type": "error",
          "traceback": [
            "\u001b[1;31m---------------------------------------------------------------------------\u001b[0m",
            "\u001b[1;31mKeyboardInterrupt\u001b[0m                         Traceback (most recent call last)",
            "Cell \u001b[1;32mIn[15], line 25\u001b[0m\n\u001b[0;32m     22\u001b[0m     loss_value\u001b[38;5;241m.\u001b[39mbackward()\n\u001b[0;32m     23\u001b[0m     optimizer\u001b[38;5;241m.\u001b[39mstep()\n\u001b[1;32m---> 25\u001b[0m     loader\u001b[38;5;241m.\u001b[39mset_description(\u001b[38;5;124m\"\u001b[39m\u001b[38;5;124mstep: \u001b[39m\u001b[38;5;132;01m%i\u001b[39;00m\u001b[38;5;124m, loss: \u001b[39m\u001b[38;5;132;01m%.4f\u001b[39;00m\u001b[38;5;124m\"\u001b[39m \u001b[38;5;241m%\u001b[39m (step, \u001b[43mloss_value\u001b[49m\u001b[38;5;241;43m.\u001b[39;49m\u001b[43mdetach\u001b[49m\u001b[43m(\u001b[49m\u001b[43m)\u001b[49m\u001b[38;5;241;43m.\u001b[39;49m\u001b[43mitem\u001b[49m\u001b[43m(\u001b[49m\u001b[43m)\u001b[49m))\n\u001b[0;32m     26\u001b[0m     losses\u001b[38;5;241m.\u001b[39mappend(loss_value\u001b[38;5;241m.\u001b[39mdetach()\u001b[38;5;241m.\u001b[39mitem())\n\u001b[0;32m     28\u001b[0m \u001b[38;5;28mprint\u001b[39m(\u001b[38;5;124m\"\u001b[39m\u001b[38;5;124mepoch \u001b[39m\u001b[38;5;132;01m%i\u001b[39;00m\u001b[38;5;124m final loss: \u001b[39m\u001b[38;5;132;01m%.6f\u001b[39;00m\u001b[38;5;124m\"\u001b[39m \u001b[38;5;241m%\u001b[39m (epoch, np\u001b[38;5;241m.\u001b[39mmean(losses)))\n",
            "\u001b[1;31mKeyboardInterrupt\u001b[0m: "
          ]
        }
      ],
      "source": [
        "from tqdm import tqdm\n",
        "\n",
        "num_epochs = 50\n",
        "\n",
        "model.train()\n",
        "for epoch in range(num_epochs):\n",
        "    loader = tqdm(dataloader)\n",
        "    losses = []\n",
        "\n",
        "    for step, (data, target) in enumerate(loader):\n",
        "        data = data.to(device, dtype=torch.float)\n",
        "        c_hot, c_mask = get_context_mask(target[:, 0], 0.1, 8, device)\n",
        "\n",
        "        t = torch.randint(0, n_step, size=(data.shape[0], )).to(device)\n",
        "        eta = torch.randn_like(data).to(device)\n",
        "        diffused = diffuse(data, t, eta).to(device)\n",
        "\n",
        "        output = model(diffused, t, c_hot * c_mask)\n",
        "        loss_value = criterion(output, eta)\n",
        "\n",
        "        optimizer.zero_grad()\n",
        "        loss_value.backward()\n",
        "        optimizer.step()\n",
        "\n",
        "        loader.set_description(\"step: %i, loss: %.4f\" % (step, loss_value.detach().item()))\n",
        "        losses.append(loss_value.detach().item())\n",
        "\n",
        "    print(\"epoch %i final loss: %.6f\" % (epoch, np.mean(losses)))"
      ]
    },
    {
      "cell_type": "code",
      "execution_count": null,
      "metadata": {
        "id": "Cf8s_pWwxpEC"
      },
      "outputs": [],
      "source": []
    },
    {
      "cell_type": "code",
      "execution_count": null,
      "metadata": {
        "id": "UZXJ0zwAxpEC"
      },
      "outputs": [],
      "source": [
        "def sample(c:torch.tensor, w=1):\n",
        "    model.eval()\n",
        "    with torch.no_grad():\n",
        "        data = torch.randn((c.shape[0], 1, 3, 28, 28)).to(device)\n",
        "\n",
        "        model.eval()\n",
        "        for t in range(n_step - 1, -1, -1):  #[n_step - 1, 0], t + 1에서 t로\n",
        "            z = 0\n",
        "\n",
        "            if t > 0:\n",
        "                z = torch.randn_like(data)\n",
        "\n",
        "            sigma_t = torch.sqrt(betas[t])\n",
        "\n",
        "            c_hot = F.one_hot(c.to(torch.int64), num_classes=8).to(dtype=torch.float, device=device)\n",
        "            #print(c_hot.shape)\n",
        "            pred_noise_keep_class = model(data, torch.tensor([t], dtype=torch.int, device=device), c_hot)\n",
        "            pred_noise_drop_class = model(data, torch.tensor([t], dtype=torch.int, device=device), torch.zeros_like(c_hot))\n",
        "\n",
        "            pred_noise = (1 + w) * pred_noise_keep_class - w * pred_noise_drop_class\n",
        "\n",
        "            # update data\n",
        "            data = (1 / torch.sqrt(alphas[t])) *\\\n",
        "                (data - (1 - alphas[t]) / torch.sqrt(1 - alphas_bar[t]) * pred_noise) +\\\n",
        "                sigma_t * z\n",
        "\n",
        "        return data"
      ]
    },
    {
      "cell_type": "code",
      "execution_count": null,
      "metadata": {
        "id": "gbGbcJxGxpEC"
      },
      "outputs": [],
      "source": [
        "print(sample(1).shape)"
      ]
    },
    {
      "cell_type": "code",
      "execution_count": null,
      "metadata": {
        "id": "dK_LemX1xpED"
      },
      "outputs": [],
      "source": [
        "def show_cfg_continous(c:torch.tensor, w):\n",
        "    data = sample(c=c, w=w).cpu().numpy()\n",
        "\n",
        "    fig, ax = plt.subplots(c.shape[0], 3, figsize=(15, 5 * c.shape[0]))\n",
        "\n",
        "    for i in range(c.shape[0]):\n",
        "        ax[i, 1].title.set_text('class: %i, w: %i' % (c[i].item(), w))\n",
        "        for j in range(3):\n",
        "            ax[i, j].imshow(data[i, 0, j], cmap='gray', vmin=-1, vmax=1)\n",
        "            ax[i, j].axis('off')\n",
        "    plt.show()"
      ]
    },
    {
      "cell_type": "code",
      "execution_count": null,
      "metadata": {
        "id": "FptXwRoIxpED",
        "outputId": "2a53f921-3bd5-4183-d5c4-dc766ff22a5b"
      },
      "outputs": [
        {
          "data": {
            "image/png": "[encoded data removed]",
            "text/plain": [
              "<Figure size 1500x4000 with 24 Axes>"
            ]
          },
          "metadata": {},
          "output_type": "display_data"
        }
      ],
      "source": [
        "show_cfg_continous(torch.arange(8), 0)"
      ]
    },
    {
      "cell_type": "code",
      "execution_count": null,
      "metadata": {
        "id": "e32OGI8cxpED",
        "outputId": "2f67f970-a319-4e35-b8b8-f86ebac51109"
      },
      "outputs": [
        {
          "name": "stdout",
          "output_type": "stream",
          "text": [
            "torch.Size([0])\n"
          ]
        }
      ],
      "source": [
        "print(data.shape)"
      ]
    },
    {
      "cell_type": "code",
      "execution_count": null,
      "metadata": {
        "id": "oZJ1W82UxpED"
      },
      "outputs": [],
      "source": [
        "#torch.save(model, 'cfg_3d_unet.nn')"
      ]
    },
    {
      "cell_type": "code",
      "execution_count": null,
      "metadata": {
        "id": "Q6AhoGhpxpED",
        "outputId": "c59e9449-6086-4748-9ded-7c180a8633c3"
      },
      "outputs": [
        {
          "name": "stderr",
          "output_type": "stream",
          "text": [
            "C:\\Users\\DW21\\AppData\\Local\\Temp\\ipykernel_18976\\1155087958.py:1: FutureWarning: You are using `torch.load` with `weights_only=False` (the current default value), which uses the default pickle module implicitly. It is possible to construct malicious pickle data which will execute arbitrary code during unpickling (See https://github.com/pytorch/pytorch/blob/main/SECURITY.md#untrusted-models for more details). In a future release, the default value for `weights_only` will be flipped to `True`. This limits the functions that could be executed during unpickling. Arbitrary objects will no longer be allowed to be loaded via this mode unless they are explicitly allowlisted by the user via `torch.serialization.add_safe_globals`. We recommend you start setting `weights_only=True` for any use case where you don't have full control of the loaded file. Please open an issue on GitHub for any issues related to this experimental feature.\n",
            "  model.load_state_dict(torch.load('cfg_3d_unet.nn').state_dict())\n"
          ]
        },
        {
          "data": {
            "text/plain": [
              "<All keys matched successfully>"
            ]
          },
          "execution_count": 180,
          "metadata": {},
          "output_type": "execute_result"
        }
      ],
      "source": [
        "model.load_state_dict(torch.load('cfg_3d_unet.nn').state_dict())"
      ]
    },
    {
      "cell_type": "code",
      "execution_count": null,
      "metadata": {
        "id": "0vasrcxkxpED"
      },
      "outputs": [],
      "source": []
    }
  ],
  "metadata": {
    "kernelspec": {
      "display_name": "Python 3",
      "language": "python",
      "name": "python3"
    },
    "language_info": {
      "codemirror_mode": {
        "name": "ipython",
        "version": 3
      },
      "file_extension": ".py",
      "mimetype": "text/x-python",
      "name": "python",
      "nbconvert_exporter": "python",
      "pygments_lexer": "ipython3",
      "version": "3.12.7"
    },
    "colab": {
      "provenance": [],
      "include_colab_link": true
    }
  },
  "nbformat": 4,
  "nbformat_minor": 0
}